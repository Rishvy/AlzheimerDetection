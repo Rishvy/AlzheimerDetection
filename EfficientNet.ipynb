{
 "cells": [
  {
   "cell_type": "code",
   "execution_count": null,
   "metadata": {},
   "outputs": [
    {
     "name": "stdout",
     "output_type": "stream",
     "text": [
      "Found 5121 images belonging to 4 classes.\n",
      "Found 1279 images belonging to 4 classes.\n",
      "Downloading data from https://storage.googleapis.com/keras-applications/efficientnetb0_notop.h5\n",
      "16705208/16705208 [==============================] - 120s 7us/step\n",
      "Epoch 1/10\n",
      "161/161 [==============================] - 415s 3s/step - loss: 1.0830 - accuracy: 0.4700 - val_loss: 1.0361 - val_accuracy: 0.5004\n",
      "Epoch 2/10\n",
      "161/161 [==============================] - 524s 3s/step - loss: 1.0604 - accuracy: 0.4964 - val_loss: 1.0340 - val_accuracy: 0.5004\n",
      "Epoch 3/10\n",
      "161/161 [==============================] - 578s 4s/step - loss: 1.0608 - accuracy: 0.4999 - val_loss: 1.0371 - val_accuracy: 0.5004\n",
      "Epoch 4/10\n",
      "161/161 [==============================] - 471s 3s/step - loss: 1.0620 - accuracy: 0.4999 - val_loss: 1.0360 - val_accuracy: 0.5004\n",
      "Epoch 5/10\n",
      "161/161 [==============================] - 478s 3s/step - loss: 1.0552 - accuracy: 0.4999 - val_loss: 1.0391 - val_accuracy: 0.5004\n",
      "Epoch 6/10\n",
      "161/161 [==============================] - 582s 4s/step - loss: 1.0513 - accuracy: 0.4999 - val_loss: 1.0410 - val_accuracy: 0.5004\n",
      "Epoch 7/10\n",
      "161/161 [==============================] - 599s 4s/step - loss: 1.0542 - accuracy: 0.4999 - val_loss: 1.0343 - val_accuracy: 0.5004\n",
      "Epoch 8/10\n",
      "161/161 [==============================] - 445s 3s/step - loss: 1.0511 - accuracy: 0.4999 - val_loss: 1.0335 - val_accuracy: 0.5004\n",
      "Epoch 9/10\n",
      "161/161 [==============================] - 347s 2s/step - loss: 1.0554 - accuracy: 0.4999 - val_loss: 1.0333 - val_accuracy: 0.5004\n",
      "Epoch 10/10\n",
      "161/161 [==============================] - 322s 2s/step - loss: 1.0523 - accuracy: 0.4999 - val_loss: 1.0352 - val_accuracy: 0.5004\n"
     ]
    },
    {
     "name": "stderr",
     "output_type": "stream",
     "text": [
      "C:\\Users\\Safa Abubakar\\AppData\\Local\\Packages\\PythonSoftwareFoundation.Python.3.11_qbz5n2kfra8p0\\LocalCache\\local-packages\\Python311\\site-packages\\keras\\src\\engine\\training.py:3000: UserWarning: You are saving your model as an HDF5 file via `model.save()`. This file format is considered legacy. We recommend using instead the native Keras format, e.g. `model.save('my_model.keras')`.\n",
      "  saving_api.save_model(\n"
     ]
    }
   ],
   "source": [
    "import tensorflow as tf\n",
    "from tensorflow.keras.preprocessing.image import ImageDataGenerator\n",
    "from tensorflow.keras.applications import EfficientNetB0\n",
    "from tensorflow.keras.models import Model\n",
    "from tensorflow.keras.layers import Dense, GlobalAveragePooling2D, Dropout\n",
    "import os\n",
    "\n",
    "data_dir = r\"C:\\Users\\Safa Abubakar\\Downloads\\Alzheimer_MRI_4_classes_dataset-20250324T154737Z-001\\Alzheimer_MRI_4_classes_dataset\"\n",
    "image_size = (224, 224)\n",
    "batch_size = 32\n",
    "\n",
    "datagen = ImageDataGenerator(\n",
    "    rescale=1.0/255,\n",
    "    validation_split=0.2\n",
    ")\n",
    "train_generator = datagen.flow_from_directory(\n",
    "    data_dir,\n",
    "    target_size=image_size,\n",
    "    batch_size=batch_size,\n",
    "    class_mode='categorical',\n",
    "    subset='training'\n",
    ")\n",
    "val_generator = datagen.flow_from_directory(\n",
    "    data_dir,\n",
    "    target_size=image_size,\n",
    "    batch_size=batch_size,\n",
    "    class_mode='categorical',\n",
    "    subset='validation'\n",
    ")\n",
    "base_model = EfficientNetB0(weights='imagenet', include_top=False, input_shape=(224, 224, 3))\n",
    "base_model.trainable = False\n",
    "x = GlobalAveragePooling2D()(base_model.output)\n",
    "x = Dense(128, activation='relu')(x)\n",
    "x = Dropout(0.5)(x)\n",
    "output_layer = Dense(4, activation='softmax')(x)\n",
    "\n",
    "model = Model(inputs=base_model.input, outputs=output_layer)\n",
    "model.compile(optimizer='adam', loss='categorical_crossentropy', metrics=['accuracy'])\n",
    "epochs = 10\n",
    "history = model.fit(\n",
    "    train_generator,\n",
    "    validation_data=val_generator,\n",
    "    epochs=epochs\n",
    ")\n",
    "model.save(\"efficientnet_alzheimer_model.h5\")\n"
   ]
  },
  {
   "cell_type": "code",
   "execution_count": 2,
   "metadata": {},
   "outputs": [
    {
     "name": "stdout",
     "output_type": "stream",
     "text": [
      "40/40 [==============================] - 69s 2s/step\n",
      "Classification Report:\n",
      "                  precision    recall  f1-score   support\n",
      "\n",
      "    MildDemented       0.00      0.00      0.00       179\n",
      "ModerateDemented       0.00      0.00      0.00        12\n",
      "     NonDemented       0.50      1.00      0.67       640\n",
      "VeryMildDemented       0.00      0.00      0.00       448\n",
      "\n",
      "        accuracy                           0.50      1279\n",
      "       macro avg       0.13      0.25      0.17      1279\n",
      "    weighted avg       0.25      0.50      0.33      1279\n",
      "\n"
     ]
    },
    {
     "name": "stderr",
     "output_type": "stream",
     "text": [
      "C:\\Users\\Safa Abubakar\\AppData\\Local\\Packages\\PythonSoftwareFoundation.Python.3.11_qbz5n2kfra8p0\\LocalCache\\local-packages\\Python311\\site-packages\\sklearn\\metrics\\_classification.py:1531: UndefinedMetricWarning: Precision is ill-defined and being set to 0.0 in labels with no predicted samples. Use `zero_division` parameter to control this behavior.\n",
      "  _warn_prf(average, modifier, f\"{metric.capitalize()} is\", len(result))\n",
      "C:\\Users\\Safa Abubakar\\AppData\\Local\\Packages\\PythonSoftwareFoundation.Python.3.11_qbz5n2kfra8p0\\LocalCache\\local-packages\\Python311\\site-packages\\sklearn\\metrics\\_classification.py:1531: UndefinedMetricWarning: Precision is ill-defined and being set to 0.0 in labels with no predicted samples. Use `zero_division` parameter to control this behavior.\n",
      "  _warn_prf(average, modifier, f\"{metric.capitalize()} is\", len(result))\n",
      "C:\\Users\\Safa Abubakar\\AppData\\Local\\Packages\\PythonSoftwareFoundation.Python.3.11_qbz5n2kfra8p0\\LocalCache\\local-packages\\Python311\\site-packages\\sklearn\\metrics\\_classification.py:1531: UndefinedMetricWarning: Precision is ill-defined and being set to 0.0 in labels with no predicted samples. Use `zero_division` parameter to control this behavior.\n",
      "  _warn_prf(average, modifier, f\"{metric.capitalize()} is\", len(result))\n"
     ]
    }
   ],
   "source": [
    "from sklearn.metrics import classification_report\n",
    "import numpy as np\n",
    "val_generator.reset()\n",
    "y_true = val_generator.classes\n",
    "y_pred = model.predict(val_generator)\n",
    "y_pred_classes = np.argmax(y_pred, axis=1)\n",
    "print(\"Classification Report:\")\n",
    "print(classification_report(y_true, y_pred_classes, target_names=val_generator.class_indices.keys()))"
   ]
  },
  {
   "cell_type": "code",
   "execution_count": null,
   "metadata": {},
   "outputs": [],
   "source": []
  }
 ],
 "metadata": {
  "kernelspec": {
   "display_name": "Python 3",
   "language": "python",
   "name": "python3"
  },
  "language_info": {
   "codemirror_mode": {
    "name": "ipython",
    "version": 3
   },
   "file_extension": ".py",
   "mimetype": "text/x-python",
   "name": "python",
   "nbconvert_exporter": "python",
   "pygments_lexer": "ipython3",
   "version": "3.11.9"
  }
 },
 "nbformat": 4,
 "nbformat_minor": 2
}
