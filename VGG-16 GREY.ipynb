{
 "cells": [
  {
   "cell_type": "code",
   "execution_count": 1,
   "metadata": {},
   "outputs": [
    {
     "name": "stdout",
     "output_type": "stream",
     "text": [
      "Found 5121 images belonging to 4 classes.\n",
      "Found 1279 images belonging to 4 classes.\n",
      "Epoch 1/10\n",
      "161/161 [==============================] - 1445s 9s/step - loss: 1.0635 - accuracy: 0.4841 - val_loss: 0.9958 - val_accuracy: 0.5004\n",
      "Epoch 2/10\n",
      "161/161 [==============================] - 1323s 8s/step - loss: 0.9939 - accuracy: 0.5171 - val_loss: 0.9732 - val_accuracy: 0.5309\n",
      "Epoch 3/10\n",
      "161/161 [==============================] - 1420s 9s/step - loss: 0.9658 - accuracy: 0.5235 - val_loss: 0.9450 - val_accuracy: 0.5559\n",
      "Epoch 4/10\n",
      "161/161 [==============================] - 1362s 8s/step - loss: 0.9513 - accuracy: 0.5310 - val_loss: 0.9271 - val_accuracy: 0.5551\n",
      "Epoch 5/10\n",
      "161/161 [==============================] - 1285s 8s/step - loss: 0.9318 - accuracy: 0.5433 - val_loss: 0.9194 - val_accuracy: 0.5692\n",
      "Epoch 6/10\n",
      "161/161 [==============================] - 1354s 8s/step - loss: 0.9169 - accuracy: 0.5505 - val_loss: 0.8941 - val_accuracy: 0.5770\n",
      "Epoch 7/10\n",
      "161/161 [==============================] - 1301s 8s/step - loss: 0.9024 - accuracy: 0.5575 - val_loss: 0.8973 - val_accuracy: 0.5473\n",
      "Epoch 8/10\n",
      "161/161 [==============================] - 1330s 8s/step - loss: 0.8924 - accuracy: 0.5585 - val_loss: 0.8774 - val_accuracy: 0.5684\n",
      "Epoch 9/10\n",
      "161/161 [==============================] - 1297s 8s/step - loss: 0.8997 - accuracy: 0.5626 - val_loss: 0.8891 - val_accuracy: 0.5747\n",
      "Epoch 10/10\n",
      "161/161 [==============================] - 1290s 8s/step - loss: 0.8843 - accuracy: 0.5661 - val_loss: 0.8692 - val_accuracy: 0.5708\n"
     ]
    },
    {
     "name": "stderr",
     "output_type": "stream",
     "text": [
      "C:\\Users\\Safa Abubakar\\AppData\\Local\\Packages\\PythonSoftwareFoundation.Python.3.11_qbz5n2kfra8p0\\LocalCache\\local-packages\\Python311\\site-packages\\keras\\src\\engine\\training.py:3000: UserWarning: You are saving your model as an HDF5 file via `model.save()`. This file format is considered legacy. We recommend using instead the native Keras format, e.g. `model.save('my_model.keras')`.\n",
      "  saving_api.save_model(\n"
     ]
    }
   ],
   "source": [
    "import tensorflow as tf\n",
    "from tensorflow.keras.preprocessing.image import ImageDataGenerator\n",
    "from tensorflow.keras.applications import VGG16\n",
    "from tensorflow.keras.models import Model\n",
    "from tensorflow.keras.layers import Dense, GlobalAveragePooling2D, Dropout\n",
    "import os\n",
    "from sklearn.metrics import classification_report, confusion_matrix\n",
    "import numpy as np\n",
    "\n",
    "data_dir = r\"C:\\Users\\Safa Abubakar\\Downloads\\Alzheimer_MRI_4_classes_dataset-20250324T154737Z-001\\Alzheimer_MRI_4_classes_dataset\"\n",
    "image_size = (224, 224)\n",
    "batch_size = 32\n",
    "datagen = ImageDataGenerator(\n",
    "    rescale=1.0/255,\n",
    "    validation_split=0.2\n",
    ")\n",
    "train_generator = datagen.flow_from_directory(\n",
    "    data_dir,\n",
    "    target_size=image_size,\n",
    "    batch_size=batch_size,\n",
    "    class_mode='categorical',\n",
    "    subset='training'\n",
    ")\n",
    "val_generator = datagen.flow_from_directory(\n",
    "    data_dir,\n",
    "    target_size=image_size,\n",
    "    batch_size=batch_size,\n",
    "    class_mode='categorical',\n",
    "    subset='validation'\n",
    ")\n",
    "base_model = VGG16(weights='imagenet', include_top=False, input_shape=(224, 224, 3))\n",
    "base_model.trainable = False\n",
    "x = GlobalAveragePooling2D()(base_model.output)\n",
    "x = Dense(128, activation='relu')(x)\n",
    "x = Dropout(0.5)(x)\n",
    "output_layer = Dense(4, activation='softmax')(x)\n",
    "model = Model(inputs=base_model.input, outputs=output_layer)\n",
    "model.compile(optimizer='adam', loss='categorical_crossentropy', metrics=['accuracy'])\n",
    "\n",
    "epochs = 10\n",
    "history = model.fit(\n",
    "    train_generator,\n",
    "    validation_data=val_generator,\n",
    "    epochs=epochs\n",
    ")\n",
    "model.save(\"vgg16_alzheimer_model.h5\")"
   ]
  },
  {
   "cell_type": "code",
   "execution_count": 2,
   "metadata": {},
   "outputs": [
    {
     "name": "stdout",
     "output_type": "stream",
     "text": [
      "40/40 [==============================] - 403s 10s/step\n",
      "Classification Report:\n",
      "                  precision    recall  f1-score   support\n",
      "\n",
      "    MildDemented       0.00      0.00      0.00       179\n",
      "ModerateDemented       0.00      0.00      0.00        12\n",
      "     NonDemented       0.50      0.61      0.55       640\n",
      "VeryMildDemented       0.35      0.40      0.37       448\n",
      "\n",
      "        accuracy                           0.44      1279\n",
      "       macro avg       0.21      0.25      0.23      1279\n",
      "    weighted avg       0.37      0.44      0.41      1279\n",
      "\n"
     ]
    },
    {
     "name": "stderr",
     "output_type": "stream",
     "text": [
      "C:\\Users\\Safa Abubakar\\AppData\\Local\\Packages\\PythonSoftwareFoundation.Python.3.11_qbz5n2kfra8p0\\LocalCache\\local-packages\\Python311\\site-packages\\sklearn\\metrics\\_classification.py:1531: UndefinedMetricWarning: Precision is ill-defined and being set to 0.0 in labels with no predicted samples. Use `zero_division` parameter to control this behavior.\n",
      "  _warn_prf(average, modifier, f\"{metric.capitalize()} is\", len(result))\n",
      "C:\\Users\\Safa Abubakar\\AppData\\Local\\Packages\\PythonSoftwareFoundation.Python.3.11_qbz5n2kfra8p0\\LocalCache\\local-packages\\Python311\\site-packages\\sklearn\\metrics\\_classification.py:1531: UndefinedMetricWarning: Precision is ill-defined and being set to 0.0 in labels with no predicted samples. Use `zero_division` parameter to control this behavior.\n",
      "  _warn_prf(average, modifier, f\"{metric.capitalize()} is\", len(result))\n",
      "C:\\Users\\Safa Abubakar\\AppData\\Local\\Packages\\PythonSoftwareFoundation.Python.3.11_qbz5n2kfra8p0\\LocalCache\\local-packages\\Python311\\site-packages\\sklearn\\metrics\\_classification.py:1531: UndefinedMetricWarning: Precision is ill-defined and being set to 0.0 in labels with no predicted samples. Use `zero_division` parameter to control this behavior.\n",
      "  _warn_prf(average, modifier, f\"{metric.capitalize()} is\", len(result))\n"
     ]
    }
   ],
   "source": [
    "\n",
    "val_generator.reset()\n",
    "y_true = val_generator.classes\n",
    "y_pred = model.predict(val_generator)\n",
    "y_pred_classes = np.argmax(y_pred, axis=1)\n",
    "\n",
    "print(\"Classification Report:\")\n",
    "print(classification_report(y_true, y_pred_classes, target_names=val_generator.class_indices.keys()))\n"
   ]
  },
  {
   "cell_type": "code",
   "execution_count": null,
   "metadata": {},
   "outputs": [],
   "source": []
  }
 ],
 "metadata": {
  "kernelspec": {
   "display_name": "Python 3",
   "language": "python",
   "name": "python3"
  },
  "language_info": {
   "codemirror_mode": {
    "name": "ipython",
    "version": 3
   },
   "file_extension": ".py",
   "mimetype": "text/x-python",
   "name": "python",
   "nbconvert_exporter": "python",
   "pygments_lexer": "ipython3",
   "version": "3.11.9"
  }
 },
 "nbformat": 4,
 "nbformat_minor": 2
}
